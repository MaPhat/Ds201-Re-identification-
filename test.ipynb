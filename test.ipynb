{
 "cells": [
  {
   "cell_type": "code",
   "execution_count": 1,
   "id": "b3f70a06",
   "metadata": {},
   "outputs": [],
   "source": [
    "import numpy as np\n"
   ]
  },
  {
   "cell_type": "code",
   "execution_count": 2,
   "id": "fd5979ae",
   "metadata": {},
   "outputs": [
    {
     "data": {
      "text/plain": [
       "array([[1., 0., 0., 0.],\n",
       "       [0., 1., 0., 0.],\n",
       "       [0., 0., 1., 0.],\n",
       "       [0., 0., 0., 1.]])"
      ]
     },
     "execution_count": 2,
     "metadata": {},
     "output_type": "execute_result"
    }
   ],
   "source": [
    "ndim = 2\n",
    "matrix = np.eye(2*ndim, 2*ndim)\n",
    "matrix\n"
   ]
  },
  {
   "cell_type": "code",
   "execution_count": 3,
   "id": "4ea31b42",
   "metadata": {},
   "outputs": [
    {
     "data": {
      "text/plain": [
       "array([[1., 0., 1., 0.],\n",
       "       [0., 1., 0., 1.],\n",
       "       [0., 0., 1., 0.],\n",
       "       [0., 0., 0., 1.]])"
      ]
     },
     "execution_count": 3,
     "metadata": {},
     "output_type": "execute_result"
    }
   ],
   "source": [
    "dt = 1\n",
    "for i in range(ndim):\n",
    "    matrix[i, ndim+ i] = dt\n",
    "\n",
    "matrix\n"
   ]
  },
  {
   "cell_type": "code",
   "execution_count": 9,
   "id": "92700d75",
   "metadata": {},
   "outputs": [
    {
     "data": {
      "text/plain": [
       "array([[ 1],\n",
       "       [ 2],\n",
       "       [ 6],\n",
       "       [10],\n",
       "       [ 0],\n",
       "       [ 0],\n",
       "       [ 0],\n",
       "       [ 0]])"
      ]
     },
     "execution_count": 9,
     "metadata": {},
     "output_type": "execute_result"
    }
   ],
   "source": [
    "mean_pos = np.array(\n",
    "    [[1],\n",
    "     [2],\n",
    "     [6],\n",
    "     [10]]\n",
    ")\n",
    "mean_vel = np.zeros_like(mean_pos)\n",
    "mean = np.r_[mean_pos, mean_vel]\n",
    "mean\n"
   ]
  },
  {
   "cell_type": "code",
   "execution_count": 11,
   "id": "679fdbcf",
   "metadata": {},
   "outputs": [],
   "source": [
    "measurement = mean_pos\n"
   ]
  },
  {
   "cell_type": "code",
   "execution_count": 14,
   "id": "344eb946",
   "metadata": {},
   "outputs": [
    {
     "data": {
      "text/plain": [
       "array([1.])"
      ]
     },
     "execution_count": 14,
     "metadata": {},
     "output_type": "execute_result"
    }
   ],
   "source": [
    "2 * _std_weight_position * measurement[3]"
   ]
  },
  {
   "cell_type": "code",
   "execution_count": 19,
   "id": "2fd0f295",
   "metadata": {},
   "outputs": [
    {
     "data": {
      "text/plain": [
       "array([[1.00000e+00, 0.00000e+00, 0.00000e+00, 0.00000e+00, 0.00000e+00,\n",
       "        0.00000e+00, 0.00000e+00, 0.00000e+00],\n",
       "       [0.00000e+00, 1.00000e+00, 0.00000e+00, 0.00000e+00, 0.00000e+00,\n",
       "        0.00000e+00, 0.00000e+00, 0.00000e+00],\n",
       "       [0.00000e+00, 0.00000e+00, 1.00000e-04, 0.00000e+00, 0.00000e+00,\n",
       "        0.00000e+00, 0.00000e+00, 0.00000e+00],\n",
       "       [0.00000e+00, 0.00000e+00, 0.00000e+00, 1.00000e+00, 0.00000e+00,\n",
       "        0.00000e+00, 0.00000e+00, 0.00000e+00],\n",
       "       [0.00000e+00, 0.00000e+00, 0.00000e+00, 0.00000e+00, 3.90625e-01,\n",
       "        0.00000e+00, 0.00000e+00, 0.00000e+00],\n",
       "       [0.00000e+00, 0.00000e+00, 0.00000e+00, 0.00000e+00, 0.00000e+00,\n",
       "        3.90625e-01, 0.00000e+00, 0.00000e+00],\n",
       "       [0.00000e+00, 0.00000e+00, 0.00000e+00, 0.00000e+00, 0.00000e+00,\n",
       "        0.00000e+00, 1.00000e-10, 0.00000e+00],\n",
       "       [0.00000e+00, 0.00000e+00, 0.00000e+00, 0.00000e+00, 0.00000e+00,\n",
       "        0.00000e+00, 0.00000e+00, 3.90625e-01]])"
      ]
     },
     "execution_count": 19,
     "metadata": {},
     "output_type": "execute_result"
    }
   ],
   "source": [
    "_std_weight_position = 1./20\n",
    "_std_weight_velocity = 1./160\n",
    "\n",
    "std = [\n",
    "        2 * _std_weight_position * measurement[3][0],\n",
    "        2 * _std_weight_position * measurement[3][0],\n",
    "        1e-2,\n",
    "        2 * _std_weight_position * measurement[3][0],\n",
    "        10 * _std_weight_velocity * measurement[3][0],\n",
    "        10 * _std_weight_velocity * measurement[3][0],\n",
    "        1e-5,\n",
    "        10 * _std_weight_velocity * measurement[3][0]]\n",
    "covariance = np.diag(np.square(std))\n",
    "covariance"
   ]
  },
  {
   "cell_type": "code",
   "execution_count": null,
   "id": "59927cfe",
   "metadata": {},
   "outputs": [],
   "source": []
  }
 ],
 "metadata": {
  "kernelspec": {
   "display_name": "Python 3",
   "language": "python",
   "name": "python3"
  },
  "language_info": {
   "codemirror_mode": {
    "name": "ipython",
    "version": 3
   },
   "file_extension": ".py",
   "mimetype": "text/x-python",
   "name": "python",
   "nbconvert_exporter": "python",
   "pygments_lexer": "ipython3",
   "version": "3.12.3"
  }
 },
 "nbformat": 4,
 "nbformat_minor": 5
}
