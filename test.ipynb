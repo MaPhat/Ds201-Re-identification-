{
 "cells": [
  {
   "cell_type": "code",
   "execution_count": 1,
   "id": "b3f70a06",
   "metadata": {},
   "outputs": [],
   "source": [
    "import numpy as np\n",
    "import math"
   ]
  },
  {
   "cell_type": "code",
   "execution_count": 2,
   "id": "fd5979ae",
   "metadata": {},
   "outputs": [],
   "source": [
    "def IOU(bbox1, bbox2):\n",
    "    \"\"\"\n",
    "    bbox1, bbox2: ndarray\n",
    "    (x_center, y_center, width, height)\n",
    "    \"\"\"\n",
    "\n",
    "    #convert to PASCAL VOC\n",
    "    box1 = (bbox1[0] - bbox1[2]/2, bbox1[1] - bbox1[3]/2, bbox1[0] + bbox1[2]/2, bbox1[1] + bbox1[3]/2)\n",
    "    box2 = (bbox2[0] - bbox2[2]/2, bbox2[1] - bbox2[3]/2, bbox2[0] + bbox2[2]/2, bbox2[1] + bbox2[3]/2)\n",
    "\n",
    "    xmin_overlapped = max(box1[0],box2[0])\n",
    "    ymin_overlapped = max(box1[1],box2[1])\n",
    "\n",
    "    xmax_overlapped = min(box1[2], box2[2])\n",
    "    ymax_overlapped = min(box1[3],box2[3])\n",
    "\n",
    "    xtrans_overlapped = xmax_overlapped\n",
    "    ytrans_overlapped = ymin_overlapped\n",
    "\n",
    "    width = math.sqrt(pow(xtrans_overlapped - xmin_overlapped, 2))\n",
    "    height = math.sqrt(pow(ymax_overlapped - ytrans_overlapped,2))\n",
    "\n",
    "    area = width * height\n",
    "    total_area = (bbox1[2] * bbox1[3]) + (bbox2[2] * bbox2[3]) - area\n",
    "\n",
    "    return area/total_area"
   ]
  },
  {
   "cell_type": "code",
   "execution_count": 18,
   "id": "4ea31b42",
   "metadata": {},
   "outputs": [
    {
     "name": "stdout",
     "output_type": "stream",
     "text": [
      "Track indices: [0 1 2]\n",
      "Detection indices: [1 0 2]\n",
      "[[0 1]\n",
      " [1 0]\n",
      " [2 2]]\n",
      "Total cost: 10\n"
     ]
    }
   ],
   "source": [
    "from scipy.optimize import linear_sum_assignment\n",
    "import numpy as np\n",
    "\n",
    "# Ma trận chi phí (cost matrix)\n",
    "cost = np.array([\n",
    "    [4, 2, 8],\n",
    "    [2, 5, 7],\n",
    "    [3, 1, 6]\n",
    "])\n",
    "\n",
    "# Giải bài toán gán tối ưu\n",
    "row_ind, col_ind = linear_sum_assignment(cost)\n",
    "temp = np.asanyarray(linear_sum_assignment(cost)).T\n",
    "# In kết quả\n",
    "print(\"Track indices:\", row_ind)\n",
    "print(\"Detection indices:\", col_ind)\n",
    "print(temp)\n",
    "print(\"Total cost:\", cost[row_ind, col_ind].sum())"
   ]
  },
  {
   "cell_type": "code",
   "execution_count": 6,
   "id": "8c93ee11",
   "metadata": {},
   "outputs": [
    {
     "data": {
      "text/plain": [
       "4"
      ]
     },
     "execution_count": 6,
     "metadata": {},
     "output_type": "execute_result"
    }
   ],
   "source": [
    "def test(a):\n",
    "    a = a * 2\n",
    "    return a\n",
    "\n",
    "a = 2\n",
    "test(a)\n"
   ]
  },
  {
   "cell_type": "code",
   "execution_count": 9,
   "id": "aac85f5c",
   "metadata": {},
   "outputs": [
    {
     "name": "stdout",
     "output_type": "stream",
     "text": [
      "1.0\n",
      "0.391304347826087\n",
      "0.391304347826087\n",
      "1.0\n"
     ]
    }
   ],
   "source": [
    "for id1 , row1 in enumerate(box1):\n",
    "    for id2 , row2 in enumerate(box2):\n",
    "        print(IOU(row1, row2))"
   ]
  },
  {
   "cell_type": "code",
   "execution_count": null,
   "id": "59927cfe",
   "metadata": {},
   "outputs": [],
   "source": []
  }
 ],
 "metadata": {
  "kernelspec": {
   "display_name": "Python 3",
   "language": "python",
   "name": "python3"
  },
  "language_info": {
   "codemirror_mode": {
    "name": "ipython",
    "version": 3
   },
   "file_extension": ".py",
   "mimetype": "text/x-python",
   "name": "python",
   "nbconvert_exporter": "python",
   "pygments_lexer": "ipython3",
   "version": "3.12.6"
  }
 },
 "nbformat": 4,
 "nbformat_minor": 5
}
